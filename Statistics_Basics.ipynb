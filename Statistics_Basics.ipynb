{
  "nbformat": 4,
  "nbformat_minor": 0,
  "metadata": {
    "colab": {
      "provenance": []
    },
    "kernelspec": {
      "name": "python3",
      "display_name": "Python 3"
    },
    "language_info": {
      "name": "python"
    }
  },
  "cells": [
    {
      "cell_type": "markdown",
      "source": [
        "1. What is statistics, and why is it important?\n",
        "\n",
        "  Statistics is the science of collecting, analyzing, interpreting, presenting, and organizing data. It is important because it enables decision-making based on data rather than assumptions.\n",
        "\n",
        "2. What are the two main types of statistics?\n",
        "\n",
        "   Descriptive Statistics: Summarizes and describes data features.\n",
        "\n",
        "   Inferential Statistics: Makes predictions or inferences about a population from a sample.\n",
        "\n",
        "3. What are descriptive statistics?\n",
        "\n",
        "   Descriptive statistics describe the basic features of data through metrics like mean, median, mode, variance, and standard deviation.\n",
        "\n",
        "4. What is inferential statistics?\n",
        "\n",
        "   Inferential statistics involves drawing conclusions or making predictions about a population based on sample data using probability theory.\n",
        "\n",
        "5. What is sampling in statistics?\n",
        "\n",
        "   Sampling is the process of selecting a subset (sample) from a larger group (population) to estimate characteristics of the whole population.\n",
        "\n",
        "6. What are the different types of sampling methods?\n",
        "\n",
        "   Random Sampling\n",
        "\n",
        "   Stratified Sampling\n",
        "\n",
        "   Systematic Sampling\n",
        "\n",
        "   Cluster Sampling\n",
        "\n",
        "   Convenience Sampling\n",
        "\n",
        "7. What is the difference between random and non-random sampling?\n",
        "\n",
        "   Random sampling ensures every individual has an equal chance of selection.\n",
        "\n",
        "   Non-random sampling involves selection based on convenience or judgment, leading to potential bias.\n",
        "\n",
        "8. Define and give examples of qualitative and quantitative data.\n",
        "\n",
        "   Qualitative (Categorical): Descriptive data (e.g., color, gender).\n",
        "\n",
        "   Quantitative (Numerical): Measurable data (e.g., height, weight).\n",
        "\n",
        "9. What are the different types of data in statistics?\n",
        "\n",
        "   Nominal\n",
        "\n",
        "   Ordinal\n",
        "\n",
        "   Interval\n",
        "\n",
        "   Ratio\n",
        "\n",
        "10. Explain nominal, ordinal, interval, and ratio levels of measurement.\n",
        "   \n",
        "   Nominal: Labels only (e.g., gender).\n",
        "\n",
        "   Ordinal: Order matters, not difference (e.g., rankings).\n",
        "\n",
        "   Interval: Equal intervals, no true zero (e.g., temperature in °C).\n",
        "\n",
        "   Ratio: Equal intervals, true zero (e.g., height, weight).\n",
        "\n",
        "11. What is the measure of central tendency?\n",
        "\n",
        "   A statistic that identifies the center of a dataset: mean, median, and mode.\n",
        "\n",
        "12. Define mean, median, and mode.\n",
        "\n",
        "   Mean: Arithmetic average.\n",
        "\n",
        "   Median: Middle value when sorted.\n",
        "\n",
        "   Mode: Most frequent value.\n",
        "\n",
        "13. What is the significance of the measure of central tendency?\n",
        "\n",
        "   It provides a summary statistic that represents the center point or typical value of a dataset.\n",
        "\n",
        "14. What is variance, and how is it calculated?\n",
        "\n",
        "   Variance measures data spread.\n",
        "   Formula:\n",
        "\n",
        "   Variance\n",
        "=\n",
        "∑\n",
        "(\n",
        "𝑥\n",
        "𝑖\n",
        "−\n",
        "𝑥\n",
        "ˉ\n",
        ")\n",
        "2\n",
        "𝑛\n",
        "−\n",
        "1\n",
        "Variance=\n",
        "n−1\n",
        "∑(x\n",
        "i\n",
        "​\n",
        " −\n",
        "x\n",
        "ˉ\n",
        " )\n",
        "2\n",
        "\n",
        "​\n",
        "\n",
        "15. What is standard deviation, and why is it important?\n",
        "  \n",
        "   Standard deviation is the square root of variance and shows how much data deviates from the mean. It’s critical for comparing variability between datasets.\n",
        "\n",
        "16. Define and explain the term range in statistics.\n",
        "\n",
        "   Range = Maximum − Minimum. It indicates the spread of data.\n",
        "\n",
        "17. What is the difference between variance and standard deviation?\n",
        "\n",
        "   Variance is the average of squared differences.\n",
        "\n",
        "   Standard deviation is its square root, making it more interpretable.\n",
        "\n",
        "18. What is skewness in a dataset?\n",
        "\n",
        "   Skewness measures the asymmetry of a distribution:\n",
        "\n",
        "   Positive: Right tail is longer.\n",
        "\n",
        "   Negative: Left tail is longer.\n",
        "\n",
        "19. What does it mean if a dataset is positively or negatively skewed?\n",
        "\n",
        "   Positively skewed: Tail on the right; mean > median.\n",
        "\n",
        "   Negatively skewed: Tail on the left; mean < median.\n",
        "\n",
        "20. Define and explain kurtosis.\n",
        "\n",
        "   Kurtosis measures the \"tailedness\" of a distribution:\n",
        "\n",
        "   High kurtosis: More outliers (leptokurtic).\n",
        "\n",
        "   Low kurtosis: Less outliers (platykurtic).\n",
        "\n",
        "21. What is the purpose of covariance?\n",
        "\n",
        "   Covariance shows whether two variables move together. Positive means they increase together; negative means one increases while the other decreases.\n",
        "\n",
        "22. What does correlation measure in statistics?\n",
        "\n",
        "   Correlation measures the strength and direction of a linear relationship between two variables, typically between -1 and 1.\n",
        "\n",
        "23. What is the difference between covariance and correlation?\n",
        "\n",
        "   Covariance shows direction of relationship.\n",
        "\n",
        "   Correlation standardizes covariance, making it dimensionless and easier to interpret.\n",
        "\n",
        "24. What are some real-world applications of statistics?\n",
        "\n",
        "   Business decision-making\n",
        "\n",
        "   Medical research and trials\n",
        "\n",
        "   Quality control\n",
        "\n",
        "   Market analysis\n",
        "\n",
        "   Public policy planning\n",
        "\n"
      ],
      "metadata": {
        "id": "z7AU_6MSKHMr"
      }
    },
    {
      "cell_type": "code",
      "source": [],
      "metadata": {
        "id": "RIVOSxd2Lpds"
      },
      "execution_count": null,
      "outputs": []
    },
    {
      "cell_type": "code",
      "source": [],
      "metadata": {
        "id": "6ER1o4fpLtHH"
      },
      "execution_count": null,
      "outputs": []
    },
    {
      "cell_type": "code",
      "source": [],
      "metadata": {
        "id": "Mblis9QgLtUs"
      },
      "execution_count": null,
      "outputs": []
    },
    {
      "cell_type": "code",
      "source": [
        "#1. Calculate mean, median, and mode\n",
        "import numpy as np\n",
        "from scipy import stats\n",
        "\n",
        "data = [10, 20, 20, 30, 40]\n",
        "print(\"Mean:\", np.mean(data))\n",
        "print(\"Median:\", np.median(data))\n",
        "print(\"Mode:\", stats.mode(data, keepdims=True).mode[0])\n"
      ],
      "metadata": {
        "colab": {
          "base_uri": "https://localhost:8080/"
        },
        "id": "QJNe9SMyLtg9",
        "outputId": "ed320d6a-0a39-4f78-b7f9-3315b4d3d6b8"
      },
      "execution_count": 1,
      "outputs": [
        {
          "output_type": "stream",
          "name": "stdout",
          "text": [
            "Mean: 24.0\n",
            "Median: 20.0\n",
            "Mode: 20\n"
          ]
        }
      ]
    },
    {
      "cell_type": "code",
      "source": [
        "#2. Python program for variance and standard deviation\n",
        "print(\"Variance:\", np.var(data, ddof=1))  # Sample variance\n",
        "print(\"Standard Deviation:\", np.std(data, ddof=1))\n"
      ],
      "metadata": {
        "colab": {
          "base_uri": "https://localhost:8080/"
        },
        "id": "5nPCJDAiL5dA",
        "outputId": "d7765b0e-212b-497a-81bc-e342bdb8f01f"
      },
      "execution_count": 2,
      "outputs": [
        {
          "output_type": "stream",
          "name": "stdout",
          "text": [
            "Variance: 130.0\n",
            "Standard Deviation: 11.40175425099138\n"
          ]
        }
      ]
    },
    {
      "cell_type": "code",
      "source": [
        "#. Classify dataset into nominal, ordinal, interval, ratio\n",
        "import pandas as pd\n",
        "\n",
        "# Create the dataset\n",
        "data = {\n",
        "    'Gender': ['Male', 'Female', 'Male', 'Other', 'Female'],  # Nominal\n",
        "    'Education_Level': ['High School', 'Bachelor’s', 'Master’s', 'PhD', 'Diploma'],  # Ordinal\n",
        "    'Temperature_C': [37.0, 36.5, 38.2, 36.8, 37.5],  # Interval\n",
        "    'Height_cm': [172, 158, 180, 165, 170]  # Ratio\n",
        "}\n",
        "\n",
        "# Create DataFrame\n",
        "df = pd.DataFrame(data)\n",
        "\n",
        "# Display the dataset\n",
        "print(\"Dataset:\")\n",
        "print(df)\n",
        "\n",
        "# Classification\n",
        "classification = {\n",
        "    'Gender': 'Nominal',\n",
        "    'Education_Level': 'Ordinal',\n",
        "    'Temperature_C': 'Interval',\n",
        "    'Height_cm': 'Ratio'\n",
        "}\n",
        "\n",
        "# Display classification\n",
        "print(\"\\nClassification by Measurement Type:\")\n",
        "for column, measure_type in classification.items():\n",
        "    print(f\"{column}: {measure_type}\")\n",
        "\n",
        "\n"
      ],
      "metadata": {
        "colab": {
          "base_uri": "https://localhost:8080/"
        },
        "id": "lzZzNzRoMRqj",
        "outputId": "d224d983-64a6-4d86-f9f3-ada94e011090"
      },
      "execution_count": 7,
      "outputs": [
        {
          "output_type": "stream",
          "name": "stdout",
          "text": [
            "Dataset:\n",
            "   Gender Education_Level  Temperature_C  Height_cm\n",
            "0    Male     High School           37.0        172\n",
            "1  Female      Bachelor’s           36.5        158\n",
            "2    Male        Master’s           38.2        180\n",
            "3   Other             PhD           36.8        165\n",
            "4  Female         Diploma           37.5        170\n",
            "\n",
            "Classification by Measurement Type:\n",
            "Gender: Nominal\n",
            "Education_Level: Ordinal\n",
            "Temperature_C: Interval\n",
            "Height_cm: Ratio\n"
          ]
        }
      ]
    },
    {
      "cell_type": "code",
      "source": [
        "#4. Sampling techniques\n",
        "import pandas as pd\n",
        "from sklearn.model_selection import train_test_split\n",
        "\n",
        "df = pd.DataFrame({'values': range(100)})\n",
        "\n",
        "# Random sampling\n",
        "random_sample = df.sample(frac=0.1)\n",
        "\n",
        "# Stratified sampling\n",
        "df['group'] = ['A']*50 + ['B']*50\n",
        "strat_sample = df.groupby('group', group_keys=False).apply(lambda x: x.sample(frac=0.1))\n"
      ],
      "metadata": {
        "colab": {
          "base_uri": "https://localhost:8080/"
        },
        "id": "V7Da2VgkM9ZS",
        "outputId": "9a73370e-e912-464c-9e8a-683aaabea4d9"
      },
      "execution_count": 8,
      "outputs": [
        {
          "output_type": "stream",
          "name": "stderr",
          "text": [
            "<ipython-input-8-1ab146d4726f>:12: DeprecationWarning: DataFrameGroupBy.apply operated on the grouping columns. This behavior is deprecated, and in a future version of pandas the grouping columns will be excluded from the operation. Either pass `include_groups=False` to exclude the groupings or explicitly select the grouping columns after groupby to silence this warning.\n",
            "  strat_sample = df.groupby('group', group_keys=False).apply(lambda x: x.sample(frac=0.1))\n"
          ]
        }
      ]
    },
    {
      "cell_type": "code",
      "source": [
        "#5. Python function to calculate range\n",
        "def calculate_range(data):\n",
        "    \"\"\"\n",
        "    Calculate the range of a numerical dataset.\n",
        "\n",
        "    Parameters:\n",
        "    data (list or pandas Series): A list or series of numerical values.\n",
        "\n",
        "    Returns:\n",
        "    float: The range of the dataset.\n",
        "    \"\"\"\n",
        "    if not data:\n",
        "        return None  # Return None for empty list\n",
        "    return max(data) - min(data)\n",
        "\n",
        "# Example usage:\n",
        "sample_data = [10, 25, 30, 45, 50]\n",
        "print(\"Range of dataset:\", calculate_range(sample_data))\n",
        "\n"
      ],
      "metadata": {
        "colab": {
          "base_uri": "https://localhost:8080/"
        },
        "id": "QHhlMYLgO2zH",
        "outputId": "10a8b3cf-dd1d-4a97-8145-8ec77cd1f8fc"
      },
      "execution_count": 10,
      "outputs": [
        {
          "output_type": "stream",
          "name": "stdout",
          "text": [
            "Range of dataset: 40\n"
          ]
        }
      ]
    },
    {
      "cell_type": "code",
      "source": [
        "#6. Plot histogram for skewness\n",
        "import matplotlib.pyplot as plt\n",
        "import seaborn as sns\n",
        "\n",
        "sns.histplot(data, kde=True)\n",
        "plt.show()\n"
      ],
      "metadata": {
        "colab": {
          "base_uri": "https://localhost:8080/",
          "height": 430
        },
        "id": "STVzNRWAPHpT",
        "outputId": "46d6a09c-1d13-4857-ffc8-ad37738ba683"
      },
      "execution_count": 11,
      "outputs": [
        {
          "output_type": "display_data",
          "data": {
            "text/plain": [
              "<Figure size 640x480 with 1 Axes>"
            ],
            "image/png": "[encoded data removed]"
          },
          "metadata": {}
        }
      ]
    },
    {
      "cell_type": "code",
      "source": [
        "#7. Skewness and kurtosis\n",
        "numerical_data = data['Height_cm']\n",
        "\n",
        "print(\"Skewness:\", skew(numerical_data))\n",
        "print(\"Kurtosis:\", kurtosis(numerical_data))"
      ],
      "metadata": {
        "colab": {
          "base_uri": "https://localhost:8080/"
        },
        "id": "qscH_Fb_QIDc",
        "outputId": "c13f8385-cdd7-40e6-cc89-4014e8ed19db"
      },
      "execution_count": 14,
      "outputs": [
        {
          "output_type": "stream",
          "name": "stdout",
          "text": [
            "Skewness: -0.018347855531243944\n",
            "Kurtosis: -0.9380151481398977\n"
          ]
        }
      ]
    },
    {
      "cell_type": "code",
      "source": [
        "#8. Demonstrate positive and negative skewness\n",
        "import numpy as np\n",
        "\n",
        "# Positive skew\n",
        "pos_skew = np.random.exponential(scale=2, size=1000)\n",
        "\n",
        "# Negative skew\n",
        "neg_skew = -np.random.exponential(scale=2, size=1000)\n",
        "\n",
        "sns.histplot(pos_skew, kde=True)\n",
        "plt.title(\"Positive Skew\")\n",
        "plt.show()\n",
        "\n",
        "sns.histplot(neg_skew, kde=True)\n",
        "plt.title(\"Negative Skew\")\n",
        "plt.show()\n"
      ],
      "metadata": {
        "colab": {
          "base_uri": "https://localhost:8080/",
          "height": 887
        },
        "id": "ck7ne5l1QT65",
        "outputId": "325f0d4e-bc35-4fa1-b786-b16191803d21"
      },
      "execution_count": 15,
      "outputs": [
        {
          "output_type": "display_data",
          "data": {
            "text/plain": [
              "<Figure size 640x480 with 1 Axes>"
            ],
            "image/png": "[encoded data removed]"
          },
          "metadata": {}
        },
        {
          "output_type": "display_data",
          "data": {
            "text/plain": [
              "<Figure size 640x480 with 1 Axes>"
            ],
            "image/png": "[encoded data removed]"
          },
          "metadata": {}
        }
      ]
    },
    {
      "cell_type": "code",
      "source": [
        "#9. Python script to calculate covariance\n",
        "x = [1, 2, 3, 4, 5]\n",
        "y = [5, 4, 3, 2, 1]\n",
        "\n",
        "cov_matrix = np.cov(x, y)\n",
        "print(\"Covariance:\", cov_matrix[0][1])\n"
      ],
      "metadata": {
        "colab": {
          "base_uri": "https://localhost:8080/"
        },
        "id": "SGGdVOtzRRGL",
        "outputId": "32fd8c08-ed1d-465a-ebb7-32fcfa5926d5"
      },
      "execution_count": 16,
      "outputs": [
        {
          "output_type": "stream",
          "name": "stdout",
          "text": [
            "Covariance: -2.5\n"
          ]
        }
      ]
    },
    {
      "cell_type": "code",
      "source": [
        "#10. Python script to calculate correlation coefficient\n",
        "corr = np.corrcoef(x, y)\n",
        "print(\"Correlation Coefficient:\", corr[0][1])\n"
      ],
      "metadata": {
        "colab": {
          "base_uri": "https://localhost:8080/"
        },
        "id": "ufLNzYp-Rcr5",
        "outputId": "01371c50-2b1e-4e20-c6c6-8bf3721f5cdc"
      },
      "execution_count": 17,
      "outputs": [
        {
          "output_type": "stream",
          "name": "stdout",
          "text": [
            "Correlation Coefficient: -0.9999999999999999\n"
          ]
        }
      ]
    },
    {
      "cell_type": "code",
      "source": [
        "#11. Scatter plot for two variables\n",
        "plt.scatter(x, y)\n",
        "plt.xlabel(\"X\")\n",
        "plt.ylabel(\"Y\")\n",
        "plt.title(\"Scatter Plot\")\n",
        "plt.show()\n"
      ],
      "metadata": {
        "colab": {
          "base_uri": "https://localhost:8080/",
          "height": 472
        },
        "id": "hmjxRactRoJX",
        "outputId": "e8eb23aa-edcf-42b9-f738-6686ee38928a"
      },
      "execution_count": 18,
      "outputs": [
        {
          "output_type": "display_data",
          "data": {
            "text/plain": [
              "<Figure size 640x480 with 1 Axes>"
            ],
            "image/png": "[encoded data removed]"
          },
          "metadata": {}
        }
      ]
    },
    {
      "cell_type": "code",
      "source": [
        "#12. Compare simple random and systematic sampling\n",
        "import pandas as pd\n",
        "import numpy as np\n",
        "\n",
        "# Create a sample dataset\n",
        "data = pd.DataFrame({\n",
        "    'ID': range(1, 21),\n",
        "    'Value': np.random.randint(10, 100, size=20)\n",
        "})\n",
        "\n",
        "print(\"Original Dataset:\\n\", data)\n",
        "\n",
        "# ----- 1. Simple Random Sampling -----\n",
        "def simple_random_sampling(df, sample_size):\n",
        "    return df.sample(n=sample_size, random_state=1)\n",
        "\n",
        "# ----- 2. Systematic Sampling -----\n",
        "def systematic_sampling(df, sample_size):\n",
        "    step = len(df) // sample_size\n",
        "    indices = list(range(0, len(df), step))[:sample_size]\n",
        "    return df.iloc[indices]\n",
        "\n",
        "# Sample size\n",
        "sample_size = 5\n",
        "\n",
        "# Perform sampling\n",
        "simple_random_sample = simple_random_sampling(data, sample_size)\n",
        "systematic_sample = systematic_sampling(data, sample_size)\n",
        "\n",
        "# Display samples\n",
        "print(\"\\nSimple Random Sampling:\\n\", simple_random_sample)\n",
        "print(\"\\nSystematic Sampling:\\n\", systematic_sample)\n",
        "\n"
      ],
      "metadata": {
        "colab": {
          "base_uri": "https://localhost:8080/"
        },
        "id": "QfCRTkVKRwNV",
        "outputId": "75fdaee3-0414-4ef6-e084-65c21c9e875d"
      },
      "execution_count": 24,
      "outputs": [
        {
          "output_type": "stream",
          "name": "stdout",
          "text": [
            "Original Dataset:\n",
            "     ID  Value\n",
            "0    1     78\n",
            "1    2     62\n",
            "2    3     66\n",
            "3    4     76\n",
            "4    5     84\n",
            "5    6     48\n",
            "6    7     20\n",
            "7    8     47\n",
            "8    9     95\n",
            "9   10     17\n",
            "10  11     14\n",
            "11  12     91\n",
            "12  13     44\n",
            "13  14     15\n",
            "14  15     98\n",
            "15  16     95\n",
            "16  17     63\n",
            "17  18     76\n",
            "18  19     95\n",
            "19  20     37\n",
            "\n",
            "Simple Random Sampling:\n",
            "     ID  Value\n",
            "3    4     76\n",
            "16  17     63\n",
            "6    7     20\n",
            "10  11     14\n",
            "2    3     66\n",
            "\n",
            "Systematic Sampling:\n",
            "     ID  Value\n",
            "0    1     78\n",
            "4    5     84\n",
            "8    9     95\n",
            "12  13     44\n",
            "16  17     63\n"
          ]
        }
      ]
    },
    {
      "cell_type": "code",
      "source": [
        "'''13. Mean, median, mode of grouped data\n",
        "Grouped data example (class intervals):\n",
        "\n",
        "Class: 0–10, 10–20, 20–30 → Frequencies: 5, 10, 15'''\n",
        "classes = [5, 15, 25]  # Midpoints\n",
        "freqs = [5, 10, 15]\n",
        "\n",
        "mean = np.average(classes, weights=freqs)\n",
        "print(\"Grouped Mean:\", mean)\n",
        "\n",
        "# Median and mode require cumulative frequency analysis (more advanced)\n",
        "\n"
      ],
      "metadata": {
        "colab": {
          "base_uri": "https://localhost:8080/"
        },
        "id": "rpAMcn2PR6VP",
        "outputId": "6d91427b-b3d0-4686-abfc-191a6b5ac7c7"
      },
      "execution_count": 22,
      "outputs": [
        {
          "output_type": "stream",
          "name": "stdout",
          "text": [
            "Grouped Mean: 18.333333333333332\n"
          ]
        }
      ]
    },
    {
      "cell_type": "code",
      "source": [
        "#14. Simulate data and compute central tendency & dispersion\n",
        "sim_data = np.random.normal(loc=50, scale=10, size=1000)\n",
        "\n",
        "print(\"Mean:\", np.mean(sim_data))\n",
        "print(\"Median:\", np.median(sim_data))\n",
        "print(\"Std Dev:\", np.std(sim_data))\n",
        "print(\"Variance:\", np.var(sim_data))\n"
      ],
      "metadata": {
        "colab": {
          "base_uri": "https://localhost:8080/"
        },
        "id": "7bblR00eSMlK",
        "outputId": "dbfab6ae-f722-4011-afbd-be694a81ee86"
      },
      "execution_count": 23,
      "outputs": [
        {
          "output_type": "stream",
          "name": "stdout",
          "text": [
            "Mean: 49.44668503155461\n",
            "Median: 49.633875490170155\n",
            "Std Dev: 9.774505663201614\n",
            "Variance: 95.54096095996042\n"
          ]
        }
      ]
    },
    {
      "cell_type": "code",
      "source": [
        "#15. Summarize a dataset’s descriptive statistics (NumPy or pandas)\n",
        "import pandas as pd\n",
        "\n",
        "data = pd.DataFrame({'values': [10, 20, 30, 40, 50]})\n",
        "print(data.describe())\n"
      ],
      "metadata": {
        "colab": {
          "base_uri": "https://localhost:8080/"
        },
        "id": "BWVhWPxASngI",
        "outputId": "af2f7744-04f6-4794-9972-87557f73a937"
      },
      "execution_count": 25,
      "outputs": [
        {
          "output_type": "stream",
          "name": "stdout",
          "text": [
            "          values\n",
            "count   5.000000\n",
            "mean   30.000000\n",
            "std    15.811388\n",
            "min    10.000000\n",
            "25%    20.000000\n",
            "50%    30.000000\n",
            "75%    40.000000\n",
            "max    50.000000\n"
          ]
        }
      ]
    },
    {
      "cell_type": "code",
      "source": [
        "#16. Plot a boxplot\n",
        "import seaborn as sns\n",
        "import matplotlib.pyplot as plt\n",
        "\n",
        "sns.boxplot(x=data['values'])\n",
        "plt.show()\n"
      ],
      "metadata": {
        "colab": {
          "base_uri": "https://localhost:8080/",
          "height": 449
        },
        "id": "tO8XldDQTinX",
        "outputId": "b97fa416-dc82-4317-8f17-6111f57f251c"
      },
      "execution_count": 26,
      "outputs": [
        {
          "output_type": "display_data",
          "data": {
            "text/plain": [
              "<Figure size 640x480 with 1 Axes>"
            ],
            "image/png": "[encoded data removed]"
          },
          "metadata": {}
        }
      ]
    },
    {
      "cell_type": "code",
      "source": [
        "#17. Calculate Interquartile Range (IQR)\n",
        "Q1 = data['values'].quantile(0.25)\n",
        "Q3 = data['values'].quantile(0.75)\n",
        "IQR = Q3 - Q1\n",
        "print(\"IQR:\", IQR)\n"
      ],
      "metadata": {
        "colab": {
          "base_uri": "https://localhost:8080/"
        },
        "id": "PB7bgJyPTv9e",
        "outputId": "06dbf397-49f0-467f-c168-3c17f5cfbf1e"
      },
      "execution_count": 27,
      "outputs": [
        {
          "output_type": "stream",
          "name": "stdout",
          "text": [
            "IQR: 20.0\n"
          ]
        }
      ]
    },
    {
      "cell_type": "code",
      "source": [
        "#18. Implement Z-score normalization\n",
        "from scipy.stats import zscore\n",
        "\n",
        "data['zscore'] = zscore(data['values'])\n",
        "print(data)\n"
      ],
      "metadata": {
        "colab": {
          "base_uri": "https://localhost:8080/"
        },
        "id": "g0qNqSj7T3x3",
        "outputId": "6ea5b546-2869-49db-dc36-5b6fde8d9950"
      },
      "execution_count": 28,
      "outputs": [
        {
          "output_type": "stream",
          "name": "stdout",
          "text": [
            "   values    zscore\n",
            "0      10 -1.414214\n",
            "1      20 -0.707107\n",
            "2      30  0.000000\n",
            "3      40  0.707107\n",
            "4      50  1.414214\n"
          ]
        }
      ]
    },
    {
      "cell_type": "code",
      "source": [
        "#19. Compare two datasets using their standard deviations\n",
        "data2 = pd.DataFrame({'values': [15, 25, 35, 45, 55]})\n",
        "std1 = data['values'].std()\n",
        "std2 = data2['values'].std()\n",
        "print(\"STD Dataset 1:\", std1, \"| Dataset 2:\", std2)\n"
      ],
      "metadata": {
        "colab": {
          "base_uri": "https://localhost:8080/"
        },
        "id": "_nEUYQl3T_R7",
        "outputId": "17b6acba-6fe4-4431-8853-89e771974f87"
      },
      "execution_count": 29,
      "outputs": [
        {
          "output_type": "stream",
          "name": "stdout",
          "text": [
            "STD Dataset 1: 15.811388300841896 | Dataset 2: 15.811388300841896\n"
          ]
        }
      ]
    },
    {
      "cell_type": "code",
      "source": [
        "#20. Visualize covariance using a heatmap\n",
        "cov_matrix = data.cov()\n",
        "sns.heatmap(cov_matrix, annot=True)\n",
        "plt.show()\n"
      ],
      "metadata": {
        "colab": {
          "base_uri": "https://localhost:8080/",
          "height": 435
        },
        "id": "mxotY2wYUHSL",
        "outputId": "26782fbc-fdf2-4c3d-a298-e929e21b1417"
      },
      "execution_count": 30,
      "outputs": [
        {
          "output_type": "display_data",
          "data": {
            "text/plain": [
              "<Figure size 640x480 with 2 Axes>"
            ],
            "image/png": "[encoded data removed]"
          },
          "metadata": {}
        }
      ]
    },
    {
      "cell_type": "code",
      "source": [
        "#21. Create a correlation matrix with seaborn\n",
        "correlation_matrix = data.corr()\n",
        "sns.heatmap(correlation_matrix, annot=True, cmap=\"coolwarm\")\n",
        "plt.show()\n"
      ],
      "metadata": {
        "colab": {
          "base_uri": "https://localhost:8080/",
          "height": 435
        },
        "id": "lUN45lc-UQQk",
        "outputId": "19d4375c-d8c2-4043-83b6-45e13c1dbda3"
      },
      "execution_count": 31,
      "outputs": [
        {
          "output_type": "display_data",
          "data": {
            "text/plain": [
              "<Figure size 640x480 with 2 Axes>"
            ],
            "image/png": "[encoded data removed]"
          },
          "metadata": {}
        }
      ]
    },
    {
      "cell_type": "code",
      "source": [
        "#22. Compute variance and standard deviation\n",
        "import numpy as np\n",
        "\n",
        "random_data = np.random.randn(100)\n",
        "print(\"Variance:\", np.var(random_data))\n",
        "print(\"Standard Deviation:\", np.std(random_data))\n"
      ],
      "metadata": {
        "colab": {
          "base_uri": "https://localhost:8080/"
        },
        "id": "B2lQkYuLUccc",
        "outputId": "f4543e95-f893-417e-938a-5190305a1455"
      },
      "execution_count": 32,
      "outputs": [
        {
          "output_type": "stream",
          "name": "stdout",
          "text": [
            "Variance: 0.9784538218587128\n",
            "Standard Deviation: 0.9891682474982265\n"
          ]
        }
      ]
    },
    {
      "cell_type": "code",
      "source": [
        "#23. Visualize skewness and kurtosis\n",
        "from scipy.stats import skew, kurtosis\n",
        "\n",
        "print(\"Skewness:\", skew(random_data))\n",
        "print(\"Kurtosis:\", kurtosis(random_data))\n",
        "sns.histplot(random_data, kde=True)\n",
        "plt.show()\n"
      ],
      "metadata": {
        "colab": {
          "base_uri": "https://localhost:8080/",
          "height": 465
        },
        "id": "eVZ7zhPBUmut",
        "outputId": "8de5d8de-7d23-4bcb-f8d2-a8edf889cca3"
      },
      "execution_count": 33,
      "outputs": [
        {
          "output_type": "stream",
          "name": "stdout",
          "text": [
            "Skewness: -0.04604286400111009\n",
            "Kurtosis: -0.08892024911282626\n"
          ]
        },
        {
          "output_type": "display_data",
          "data": {
            "text/plain": [
              "<Figure size 640x480 with 1 Axes>"
            ],
            "image/png": "[encoded data removed]"
          },
          "metadata": {}
        }
      ]
    },
    {
      "cell_type": "code",
      "source": [
        "#24. Pearson and Spearman correlation coefficients\n",
        "from scipy.stats import pearsonr, spearmanr\n",
        "\n",
        "x = [1, 2, 3, 4, 5]\n",
        "y = [5, 6, 7, 8, 9]\n",
        "\n",
        "print(\"Pearson:\", pearsonr(x, y))\n",
        "print(\"Spearman:\", spearmanr(x, y))\n"
      ],
      "metadata": {
        "colab": {
          "base_uri": "https://localhost:8080/"
        },
        "id": "5Tgfw7RkUuJd",
        "outputId": "bf9b70ad-e9fc-4f2f-c2d7-ff19813ad265"
      },
      "execution_count": 34,
      "outputs": [
        {
          "output_type": "stream",
          "name": "stdout",
          "text": [
            "Pearson: PearsonRResult(statistic=np.float64(1.0), pvalue=np.float64(0.0))\n",
            "Spearman: SignificanceResult(statistic=np.float64(0.9999999999999999), pvalue=np.float64(1.4042654220543672e-24))\n"
          ]
        }
      ]
    },
    {
      "cell_type": "code",
      "source": [],
      "metadata": {
        "id": "VvFT-9IyU1NO"
      },
      "execution_count": null,
      "outputs": []
    }
  ]
}